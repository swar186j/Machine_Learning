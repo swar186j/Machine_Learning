{
 "metadata": {
  "language_info": {
   "codemirror_mode": {
    "name": "ipython",
    "version": 3
   },
   "file_extension": ".py",
   "mimetype": "text/x-python",
   "name": "python",
   "nbconvert_exporter": "python",
   "pygments_lexer": "ipython3",
   "version": "3.9.5"
  },
  "orig_nbformat": 2,
  "kernelspec": {
   "name": "python395jvsc74a57bd0d62006d1f3422635846181a997a61e8ec3049f797e5d7dfe0cd1bb84092b7c19",
   "display_name": "Python 3.9.2 64-bit"
  }
 },
 "nbformat": 4,
 "nbformat_minor": 2,
 "cells": [
  {
   "cell_type": "code",
   "execution_count": 3,
   "metadata": {},
   "outputs": [],
   "source": [
    "import pandas as pd\n",
    "from sklearn.tree import DecisionTreeClassifier\n",
    "from sklearn.model_selection import train_test_split\n"
   ]
  },
  {
   "cell_type": "code",
   "execution_count": 4,
   "metadata": {},
   "outputs": [
    {
     "output_type": "stream",
     "name": "stdout",
     "text": [
      "[0]\n"
     ]
    }
   ],
   "source": [
    "df = pd.read_csv('C:/Users/Dell/Documents/titanic.csv')\n",
    "df['male'] = df['Sex'] == 'male'\n",
    "X = df[['Pclass', 'male', 'Age', 'Siblings/Spouses Aboard', 'Parents/Children Aboard', 'Fare']].values\n",
    "y = df['Survived'].values\n",
    "\n",
    "X_train, X_test, y_train, y_test = train_test_split(X, y, random_state=22)\n",
    "model = DecisionTreeClassifier()\n",
    "model.fit(X_train, y_train)\n",
    "print(model.predict([[3, True, 22, 1, 0, 7.25]]))"
   ]
  },
  {
   "cell_type": "code",
   "execution_count": 5,
   "metadata": {},
   "outputs": [
    {
     "output_type": "stream",
     "name": "stdout",
     "text": [
      "Decision Tree\n  accuracy: 0.7711293087031041\n  precision: 0.7029359403944644\n  recall: 0.7058600713012477\nLogistic Regression\n  accuracy: 0.7970354853043865\n  precision: 0.7618898922983288\n  recall: 0.6900529617441382\n"
     ]
    }
   ],
   "source": [
    "#We can use the score and predict methods to get the accuracy, precision and recall scores.\n",
    "#Use k fold validation\n",
    "from sklearn.model_selection import KFold\n",
    "import numpy as np\n",
    "from sklearn.metrics import precision_score, recall_score, accuracy_score\n",
    "from sklearn.linear_model import LogisticRegression\n",
    "kf = KFold(n_splits=5, shuffle=True, random_state=10)\n",
    "dt_accuracy_scores = []\n",
    "dt_precision_scores = []\n",
    "dt_recall_scores = []\n",
    "lr_accuracy_scores = []\n",
    "lr_precision_scores = []\n",
    "lr_recall_scores = []\n",
    "for train_index, test_index in kf.split(X):\n",
    "    X_train, X_test = X[train_index], X[test_index]\n",
    "    y_train, y_test = y[train_index], y[test_index]\n",
    "    dt = DecisionTreeClassifier()\n",
    "    dt.fit(X_train, y_train)\n",
    "    dt_accuracy_scores.append(dt.score(X_test, y_test))\n",
    "    dt_y_pred = dt.predict(X_test)\n",
    "    dt_precision_scores.append(precision_score(y_test, dt_y_pred))\n",
    "    dt_recall_scores.append(recall_score(y_test, dt_y_pred))\n",
    "    lr = LogisticRegression()\n",
    "    lr.fit(X_train, y_train)\n",
    "    lr_accuracy_scores.append(lr.score(X_test, y_test))\n",
    "    lr_y_pred = lr.predict(X_test)\n",
    "    lr_precision_scores.append(precision_score(y_test, lr_y_pred))\n",
    "    lr_recall_scores.append(recall_score(y_test, lr_y_pred))\n",
    "print(\"Decision Tree\")\n",
    "print(\"  accuracy:\", np.mean(dt_accuracy_scores))\n",
    "print(\"  precision:\", np.mean(dt_precision_scores))\n",
    "print(\"  recall:\", np.mean(dt_recall_scores))\n",
    "print(\"Logistic Regression\")\n",
    "print(\"  accuracy:\", np.mean(lr_accuracy_scores))\n",
    "print(\"  precision:\", np.mean(lr_precision_scores))\n",
    "print(\"  recall:\", np.mean(lr_recall_scores))"
   ]
  },
  {
   "cell_type": "code",
   "execution_count": 6,
   "metadata": {},
   "outputs": [
    {
     "output_type": "stream",
     "name": "stdout",
     "text": [
      "Decision Tree - gini\naccuracy: 0.773484415666857\nprecision: 0.7047977665344741\nrecall: 0.7022749809305873 \n\n\nDecision Tree - entropy\naccuracy: 0.7733574557227195\nprecision: 0.7022446741854635\nrecall: 0.7108631356712982 \n\n\n"
     ]
    }
   ],
   "source": [
    "#The default impurity criterion in scikit-learn’s Decision Tree algorithm is the Gini Impurity.\n",
    "kf = KFold(n_splits=5, shuffle=True)\n",
    "for criterion in ['gini', 'entropy']:\n",
    "    print(\"Decision Tree - {}\".format(criterion))\n",
    "    accuracy = []\n",
    "    precision = []\n",
    "    recall = []\n",
    "    for train_index, test_index in kf.split(X):\n",
    "        X_train, X_test = X[train_index], X[test_index]\n",
    "        y_train, y_test = y[train_index], y[test_index]\n",
    "        dt = DecisionTreeClassifier(criterion=criterion)\n",
    "        dt.fit(X_train, y_train)\n",
    "        y_pred = dt.predict(X_test)\n",
    "        accuracy.append(accuracy_score(y_test, y_pred))\n",
    "        precision.append(precision_score(y_test, y_pred))\n",
    "        recall.append(recall_score(y_test, y_pred))\n",
    "    print(\"accuracy:\", np.mean(accuracy))\n",
    "    print(\"precision:\", np.mean(precision))\n",
    "    print(\"recall:\", np.mean(recall), '\\n')\n",
    "    print()"
   ]
  },
  {
   "cell_type": "code",
   "execution_count": 8,
   "metadata": {},
   "outputs": [
    {
     "output_type": "execute_result",
     "data": {
      "text/plain": [
       "'\\nGraph objects are stored as .dot files which can be the GraphViz program. Our goal is to save a png image file. We will be able to convert the dot file to a png file, so we first save the dot file to a variable., so we save the dot file created by the export_graphviz function so that we can convert it to a png.\\n\\nWe can then use the graphviz module to convert it to a png image format.\\n'"
      ]
     },
     "metadata": {},
     "execution_count": 8
    }
   ],
   "source": [
    "from sklearn.tree import export_graphviz\n",
    "import graphviz\n",
    "from IPython.display import Image\n",
    "\n",
    "feature_names = ['Pclass', 'male']\n",
    "X = df[feature_names].values\n",
    "y = df['Survived'].values\n",
    "\n",
    "dt = DecisionTreeClassifier()\n",
    "dt.fit(X, y)\n",
    "\n",
    "dot_file = export_graphviz(dt, feature_names=feature_names)\n",
    "graph = graphviz.Source(dot_file)\n",
    "graph.render(filename='tree', format='png', cleanup=True)\n",
    "\n",
    "'''\n",
    "Graph objects are stored as .dot files which can be the GraphViz program. Our goal is to save a png image file. We will be able to convert the dot file to a png file, so we first save the dot file to a variable., so we save the dot file created by the export_graphviz function so that we can convert it to a png.\n",
    "\n",
    "We can then use the graphviz module to convert it to a png image format.\n",
    "'''"
   ]
  },
  {
   "cell_type": "code",
   "execution_count": null,
   "metadata": {},
   "outputs": [],
   "source": []
  }
 ]
}